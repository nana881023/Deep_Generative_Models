{
  "nbformat": 4,
  "nbformat_minor": 0,
  "metadata": {
    "colab": {
      "provenance": [],
      "authorship_tag": "ABX9TyNYPzE3neBujYvRIcUvAln4",
      "include_colab_link": true
    },
    "kernelspec": {
      "name": "python3",
      "display_name": "Python 3"
    },
    "language_info": {
      "name": "python"
    }
  },
  "cells": [
    {
      "cell_type": "markdown",
      "metadata": {
        "id": "view-in-github",
        "colab_type": "text"
      },
      "source": [
        "<a href=\"https://colab.research.google.com/github/nana881023/Deep_Generative_Models/blob/main/%E4%BD%BF%E7%94%A8%E8%AE%8A%E5%88%86%E8%87%AA%E7%B7%A8%E7%A2%BC%E5%99%A8%EF%BC%88VAE%EF%BC%89%E9%87%8D%E5%BB%BA_MNIST_%E6%89%8B%E5%AF%AB%E6%95%B8%E5%AD%97.ipynb\" target=\"_parent\"><img src=\"https://colab.research.google.com/assets/colab-badge.svg\" alt=\"Open In Colab\"/></a>"
      ]
    },
    {
      "cell_type": "code",
      "execution_count": null,
      "metadata": {
        "id": "jRGXL9XrO8ZM"
      },
      "outputs": [],
      "source": [
        "import torch\n",
        "import torch.nn as nn\n",
        "import torch.nn.functional as F\n",
        "import torch.optim as optim\n",
        "from torch.utils.data import DataLoader\n",
        "import torchvision\n",
        "import torchvision.transforms as transforms\n",
        "import matplotlib.pyplot as plt\n",
        "import numpy as np\n",
        "import os"
      ]
    },
    {
      "cell_type": "code",
      "source": [
        "# 設定環境變數解決 OpenMP 警告\n",
        "os.environ['KMP_DUPLICATE_LIB_OK'] = 'TRUE'\n",
        "\n",
        "# 設定設備 (GPU 或 CPU)\n",
        "device = torch.device(\"cuda\" if torch.cuda.is_available() else \"cpu\")\n",
        "print(f\"使用設備: {device}\")"
      ],
      "metadata": {
        "colab": {
          "base_uri": "https://localhost:8080/"
        },
        "id": "mjxgKwT9UekU",
        "outputId": "d029032a-1f4c-4a0c-9d1a-d45171ff7edb"
      },
      "execution_count": null,
      "outputs": [
        {
          "output_type": "stream",
          "name": "stdout",
          "text": [
            "使用設備: cpu\n"
          ]
        }
      ]
    },
    {
      "cell_type": "code",
      "source": [
        "# 超參數設定\n",
        "BATCH_SIZE = 128\n",
        "LEARNING_RATE = 1e-3\n",
        "EPOCHS = 5\n",
        "LATENT_DIM = 20  # 潛在空間維度\n",
        "INPUT_DIM = 784  # 28 x 28 展平後的維度"
      ],
      "metadata": {
        "id": "iWLUjzF5S-Sm"
      },
      "execution_count": null,
      "outputs": []
    },
    {
      "cell_type": "code",
      "source": [
        "# 1. 資料準備\n",
        "transform = transforms.Compose([\n",
        "    transforms.ToTensor(),  # 轉換為 Tensor 並正規化到 [0, 1]\n",
        "])\n",
        "\n",
        "# 下載並載入 MNIST 資料集\n",
        "print(\"下載 MNIST 資料集...\")\n",
        "train_dataset = torchvision.datasets.MNIST(\n",
        "    root='./data',\n",
        "    train=True,\n",
        "    download=True,\n",
        "    transform=transform\n",
        ")\n",
        "\n",
        "test_dataset = torchvision.datasets.MNIST(\n",
        "    root='./data',\n",
        "    train=False,\n",
        "    download=True,\n",
        "    transform=transform\n",
        ")"
      ],
      "metadata": {
        "colab": {
          "base_uri": "https://localhost:8080/"
        },
        "id": "AvfUfpFTTMF9",
        "outputId": "c951b147-aeec-4381-9e1d-8e069c03cc8c"
      },
      "execution_count": null,
      "outputs": [
        {
          "output_type": "stream",
          "name": "stdout",
          "text": [
            "下載 MNIST 資料集...\n"
          ]
        },
        {
          "output_type": "stream",
          "name": "stderr",
          "text": [
            "100%|██████████| 9.91M/9.91M [00:00<00:00, 50.3MB/s]\n",
            "100%|██████████| 28.9k/28.9k [00:00<00:00, 1.80MB/s]\n",
            "100%|██████████| 1.65M/1.65M [00:00<00:00, 12.1MB/s]\n",
            "100%|██████████| 4.54k/4.54k [00:00<00:00, 9.94MB/s]\n"
          ]
        }
      ]
    },
    {
      "cell_type": "code",
      "source": [
        "# 建立資料載入器\n",
        "train_loader = DataLoader(train_dataset, batch_size=BATCH_SIZE, shuffle=True)\n",
        "test_loader = DataLoader(test_dataset, batch_size=BATCH_SIZE, shuffle=False)\n",
        "\n",
        "print(f\"訓練集大小: {len(train_dataset)}\")\n",
        "print(f\"測試集大小: {len(test_dataset)}\")"
      ],
      "metadata": {
        "colab": {
          "base_uri": "https://localhost:8080/"
        },
        "id": "bzAZVJhaTOut",
        "outputId": "bd648834-488b-461c-9392-db99d5ab89ba"
      },
      "execution_count": null,
      "outputs": [
        {
          "output_type": "stream",
          "name": "stdout",
          "text": [
            "訓練集大小: 60000\n",
            "測試集大小: 10000\n"
          ]
        }
      ]
    },
    {
      "cell_type": "code",
      "source": [
        "# 2. 模型設計\n",
        "class VAE(nn.Module):\n",
        "    def __init__(self, input_dim=784, latent_dim=20):\n",
        "        super(VAE, self).__init__()\n",
        "        self.input_dim = input_dim\n",
        "        self.latent_dim = latent_dim\n",
        "\n",
        "        # Encoder 網路\n",
        "        self.encoder = nn.Sequential(\n",
        "            nn.Linear(input_dim, 400),\n",
        "            nn.ReLU(),\n",
        "            nn.Linear(400, 200),\n",
        "            nn.ReLU()\n",
        "        )\n",
        "\n",
        "        # 輸出均值和對數方差\n",
        "        self.fc_mu = nn.Linear(200, latent_dim)\n",
        "        self.fc_logvar = nn.Linear(200, latent_dim)\n",
        "\n",
        "        # Decoder 網路\n",
        "        self.decoder = nn.Sequential(\n",
        "            nn.Linear(latent_dim, 200),\n",
        "            nn.ReLU(),\n",
        "            nn.Linear(200, 400),\n",
        "            nn.ReLU(),\n",
        "            nn.Linear(400, input_dim),\n",
        "            nn.Sigmoid()  # 輸出 [0, 1] 範圍的像素值\n",
        "        )\n",
        "\n",
        "    def encode(self, x):\n",
        "        \"\"\"編碼器：將輸入轉換為均值和對數方差\"\"\"\n",
        "        h = self.encoder(x)\n",
        "        mu = self.fc_mu(h)\n",
        "        logvar = self.fc_logvar(h)\n",
        "        return mu, logvar\n",
        "\n",
        "    def reparameterize(self, mu, logvar):\n",
        "        \"\"\"重參數化技巧：從 N(mu, var) 採樣\"\"\"\n",
        "        std = torch.exp(0.5 * logvar)\n",
        "        eps = torch.randn_like(std)\n",
        "        return mu + eps * std\n",
        "\n",
        "    def decode(self, z):\n",
        "        \"\"\"解碼器：將潛在變數轉換回圖像\"\"\"\n",
        "        return self.decoder(z)\n",
        "\n",
        "    def forward(self, x):\n",
        "        \"\"\"前向傳播\"\"\"\n",
        "        mu, logvar = self.encode(x.view(-1, self.input_dim))\n",
        "        z = self.reparameterize(mu, logvar)\n",
        "        recon_x = self.decode(z)\n",
        "        return recon_x, mu, logvar"
      ],
      "metadata": {
        "id": "xZbvxWiBUXXH"
      },
      "execution_count": null,
      "outputs": []
    },
    {
      "cell_type": "code",
      "source": [
        "# 建立模型\n",
        "model = VAE(input_dim=INPUT_DIM, latent_dim=LATENT_DIM).to(device)\n",
        "print(\"模型架構:\")\n",
        "print(model)"
      ],
      "metadata": {
        "colab": {
          "base_uri": "https://localhost:8080/"
        },
        "id": "hXNbV61CUZmF",
        "outputId": "b4b4becb-0c02-4f61-a765-f9d56653e141"
      },
      "execution_count": null,
      "outputs": [
        {
          "output_type": "stream",
          "name": "stdout",
          "text": [
            "模型架構:\n",
            "VAE(\n",
            "  (encoder): Sequential(\n",
            "    (0): Linear(in_features=784, out_features=400, bias=True)\n",
            "    (1): ReLU()\n",
            "    (2): Linear(in_features=400, out_features=200, bias=True)\n",
            "    (3): ReLU()\n",
            "  )\n",
            "  (fc_mu): Linear(in_features=200, out_features=20, bias=True)\n",
            "  (fc_logvar): Linear(in_features=200, out_features=20, bias=True)\n",
            "  (decoder): Sequential(\n",
            "    (0): Linear(in_features=20, out_features=200, bias=True)\n",
            "    (1): ReLU()\n",
            "    (2): Linear(in_features=200, out_features=400, bias=True)\n",
            "    (3): ReLU()\n",
            "    (4): Linear(in_features=400, out_features=784, bias=True)\n",
            "    (5): Sigmoid()\n",
            "  )\n",
            ")\n"
          ]
        }
      ]
    },
    {
      "cell_type": "code",
      "source": [
        "# 損失函數\n",
        "def vae_loss(recon_x, x, mu, logvar):\n",
        "    \"\"\"VAE 損失函數 = 重建損失 + KL 散度損失\"\"\"\n",
        "    # 重建損失 (Binary Cross Entropy)\n",
        "    BCE = F.binary_cross_entropy(recon_x, x.view(-1, INPUT_DIM), reduction='sum')\n",
        "\n",
        "    # KL 散度損失\n",
        "    KLD = -0.5 * torch.sum(1 + logvar - mu.pow(2) - logvar.exp())\n",
        "\n",
        "    return BCE + KLD"
      ],
      "metadata": {
        "id": "9VINoT8gUa4a"
      },
      "execution_count": null,
      "outputs": []
    },
    {
      "cell_type": "code",
      "source": [
        "# 3. 訓練設定\n",
        "optimizer = optim.Adam(model.parameters(), lr=LEARNING_RATE)"
      ],
      "metadata": {
        "id": "ezWN_VyHUiMu"
      },
      "execution_count": null,
      "outputs": []
    },
    {
      "cell_type": "code",
      "source": [
        "# 4. 訓練過程\n",
        "print(\"\\n開始訓練...\")\n",
        "train_losses = []\n",
        "\n",
        "model.train()\n",
        "for epoch in range(EPOCHS):\n",
        "    total_loss = 0\n",
        "    for batch_idx, (data, _) in enumerate(train_loader):\n",
        "        data = data.to(device)\n",
        "\n",
        "        # 前向傳播\n",
        "        optimizer.zero_grad()\n",
        "        recon_batch, mu, logvar = model(data)\n",
        "\n",
        "        # 計算損失\n",
        "        loss = vae_loss(recon_batch, data, mu, logvar)\n",
        "\n",
        "        # 反向傳播\n",
        "        loss.backward()\n",
        "        optimizer.step()\n",
        "\n",
        "        total_loss += loss.item()\n",
        "\n",
        "    # 計算平均損失\n",
        "    avg_loss = total_loss / len(train_loader.dataset)\n",
        "    train_losses.append(avg_loss)\n",
        "    print(f'Epoch {epoch + 1}, Average loss: {avg_loss:.4f}')\n",
        "\n",
        "print(\"訓練完成！\")"
      ],
      "metadata": {
        "colab": {
          "base_uri": "https://localhost:8080/"
        },
        "id": "BrlvZdSpUkAb",
        "outputId": "806f26fd-c22e-4cce-9bf3-a4c2245ebace"
      },
      "execution_count": null,
      "outputs": [
        {
          "output_type": "stream",
          "name": "stdout",
          "text": [
            "\n",
            "開始訓練...\n",
            "Epoch 1, Average loss: 178.0934\n",
            "Epoch 2, Average loss: 129.3205\n",
            "Epoch 3, Average loss: 118.5267\n",
            "Epoch 4, Average loss: 113.3360\n",
            "Epoch 5, Average loss: 110.2426\n",
            "訓練完成！\n"
          ]
        }
      ]
    },
    {
      "cell_type": "code",
      "source": [
        "# 5. 測試與視覺化\n",
        "def visualize_reconstruction(model, test_loader, device, num_samples=8):\n",
        "    \"\"\"視覺化重建結果\"\"\"\n",
        "    model.eval()\n",
        "\n",
        "    # 獲取測試樣本\n",
        "    with torch.no_grad():\n",
        "        for data, _ in test_loader:\n",
        "            data = data.to(device)\n",
        "            recon_data, _, _ = model(data)\n",
        "            break\n",
        "\n",
        "    # 準備顯示的圖像\n",
        "    original = data[:num_samples].cpu()\n",
        "    reconstructed = recon_data[:num_samples].cpu().view(-1, 1, 28, 28)\n",
        "\n",
        "    # 繪圖\n",
        "    fig, axes = plt.subplots(2, num_samples, figsize=(15, 4))\n",
        "\n",
        "    for i in range(num_samples):\n",
        "        # 原始圖像\n",
        "        axes[0, i].imshow(original[i].squeeze(), cmap='gray')\n",
        "        axes[0, i].set_title(f'Input')\n",
        "        axes[0, i].axis('off')\n",
        "\n",
        "        # 重建圖像\n",
        "        axes[1, i].imshow(reconstructed[i].squeeze(), cmap='gray')\n",
        "        axes[1, i].set_title(f'Reconstruction')\n",
        "        axes[1, i].axis('off')\n",
        "\n",
        "    plt.suptitle('VAE 重建結果比較', fontsize=16)\n",
        "    plt.tight_layout()\n",
        "    plt.savefig('reconstruction.png', dpi=150, bbox_inches='tight')\n",
        "    plt.show()"
      ],
      "metadata": {
        "id": "1VJVcqSDUlxO"
      },
      "execution_count": null,
      "outputs": []
    },
    {
      "cell_type": "code",
      "source": [
        "# 生成重建結果視覺化\n",
        "print(\"\\n生成重建結果...\")\n",
        "visualize_reconstruction(model, test_loader, device)"
      ],
      "metadata": {
        "colab": {
          "base_uri": "https://localhost:8080/",
          "height": 1000
        },
        "id": "z8eWGO42VFub",
        "outputId": "6fbee88a-feed-4cd0-a457-707a0c30dd3c"
      },
      "execution_count": null,
      "outputs": [
        {
          "output_type": "stream",
          "name": "stdout",
          "text": [
            "\n",
            "生成重建結果...\n"
          ]
        },
        {
          "output_type": "stream",
          "name": "stderr",
          "text": [
            "/tmp/ipython-input-2209359809.py:32: UserWarning: Glyph 37325 (\\N{CJK UNIFIED IDEOGRAPH-91CD}) missing from font(s) DejaVu Sans.\n",
            "  plt.tight_layout()\n",
            "/tmp/ipython-input-2209359809.py:32: UserWarning: Glyph 24314 (\\N{CJK UNIFIED IDEOGRAPH-5EFA}) missing from font(s) DejaVu Sans.\n",
            "  plt.tight_layout()\n",
            "/tmp/ipython-input-2209359809.py:32: UserWarning: Glyph 32080 (\\N{CJK UNIFIED IDEOGRAPH-7D50}) missing from font(s) DejaVu Sans.\n",
            "  plt.tight_layout()\n",
            "/tmp/ipython-input-2209359809.py:32: UserWarning: Glyph 26524 (\\N{CJK UNIFIED IDEOGRAPH-679C}) missing from font(s) DejaVu Sans.\n",
            "  plt.tight_layout()\n",
            "/tmp/ipython-input-2209359809.py:32: UserWarning: Glyph 27604 (\\N{CJK UNIFIED IDEOGRAPH-6BD4}) missing from font(s) DejaVu Sans.\n",
            "  plt.tight_layout()\n",
            "/tmp/ipython-input-2209359809.py:32: UserWarning: Glyph 36611 (\\N{CJK UNIFIED IDEOGRAPH-8F03}) missing from font(s) DejaVu Sans.\n",
            "  plt.tight_layout()\n",
            "/tmp/ipython-input-2209359809.py:33: UserWarning: Glyph 37325 (\\N{CJK UNIFIED IDEOGRAPH-91CD}) missing from font(s) DejaVu Sans.\n",
            "  plt.savefig('reconstruction.png', dpi=150, bbox_inches='tight')\n",
            "/tmp/ipython-input-2209359809.py:33: UserWarning: Glyph 24314 (\\N{CJK UNIFIED IDEOGRAPH-5EFA}) missing from font(s) DejaVu Sans.\n",
            "  plt.savefig('reconstruction.png', dpi=150, bbox_inches='tight')\n",
            "/tmp/ipython-input-2209359809.py:33: UserWarning: Glyph 32080 (\\N{CJK UNIFIED IDEOGRAPH-7D50}) missing from font(s) DejaVu Sans.\n",
            "  plt.savefig('reconstruction.png', dpi=150, bbox_inches='tight')\n",
            "/tmp/ipython-input-2209359809.py:33: UserWarning: Glyph 26524 (\\N{CJK UNIFIED IDEOGRAPH-679C}) missing from font(s) DejaVu Sans.\n",
            "  plt.savefig('reconstruction.png', dpi=150, bbox_inches='tight')\n",
            "/tmp/ipython-input-2209359809.py:33: UserWarning: Glyph 27604 (\\N{CJK UNIFIED IDEOGRAPH-6BD4}) missing from font(s) DejaVu Sans.\n",
            "  plt.savefig('reconstruction.png', dpi=150, bbox_inches='tight')\n",
            "/tmp/ipython-input-2209359809.py:33: UserWarning: Glyph 36611 (\\N{CJK UNIFIED IDEOGRAPH-8F03}) missing from font(s) DejaVu Sans.\n",
            "  plt.savefig('reconstruction.png', dpi=150, bbox_inches='tight')\n",
            "/usr/local/lib/python3.12/dist-packages/IPython/core/pylabtools.py:151: UserWarning: Glyph 37325 (\\N{CJK UNIFIED IDEOGRAPH-91CD}) missing from font(s) DejaVu Sans.\n",
            "  fig.canvas.print_figure(bytes_io, **kw)\n",
            "/usr/local/lib/python3.12/dist-packages/IPython/core/pylabtools.py:151: UserWarning: Glyph 24314 (\\N{CJK UNIFIED IDEOGRAPH-5EFA}) missing from font(s) DejaVu Sans.\n",
            "  fig.canvas.print_figure(bytes_io, **kw)\n",
            "/usr/local/lib/python3.12/dist-packages/IPython/core/pylabtools.py:151: UserWarning: Glyph 32080 (\\N{CJK UNIFIED IDEOGRAPH-7D50}) missing from font(s) DejaVu Sans.\n",
            "  fig.canvas.print_figure(bytes_io, **kw)\n",
            "/usr/local/lib/python3.12/dist-packages/IPython/core/pylabtools.py:151: UserWarning: Glyph 26524 (\\N{CJK UNIFIED IDEOGRAPH-679C}) missing from font(s) DejaVu Sans.\n",
            "  fig.canvas.print_figure(bytes_io, **kw)\n",
            "/usr/local/lib/python3.12/dist-packages/IPython/core/pylabtools.py:151: UserWarning: Glyph 27604 (\\N{CJK UNIFIED IDEOGRAPH-6BD4}) missing from font(s) DejaVu Sans.\n",
            "  fig.canvas.print_figure(bytes_io, **kw)\n",
            "/usr/local/lib/python3.12/dist-packages/IPython/core/pylabtools.py:151: UserWarning: Glyph 36611 (\\N{CJK UNIFIED IDEOGRAPH-8F03}) missing from font(s) DejaVu Sans.\n",
            "  fig.canvas.print_figure(bytes_io, **kw)\n"
          ]
        },
        {
          "output_type": "display_data",
          "data": {
            "text/plain": [
              "<Figure size 1500x400 with 16 Axes>"
            ],
            "image/png": "[encoded data removed]"
          },
          "metadata": {}
        }
      ]
    },
    {
      "cell_type": "code",
      "source": [
        "# 6. 生成新樣本\n",
        "def generate_samples(model, device, num_samples=8):\n",
        "    \"\"\"從潛在空間生成新樣本\"\"\"\n",
        "    model.eval()\n",
        "\n",
        "    with torch.no_grad():\n",
        "        # 從標準正態分佈採樣\n",
        "        z = torch.randn(num_samples, LATENT_DIM).to(device)\n",
        "        generated = model.decode(z).cpu().view(-1, 1, 28, 28)\n",
        "\n",
        "    # 繪圖\n",
        "    fig, axes = plt.subplots(1, num_samples, figsize=(15, 2))\n",
        "\n",
        "    for i in range(num_samples):\n",
        "        axes[i].imshow(generated[i].squeeze(), cmap='gray')\n",
        "        axes[i].set_title(f'Generated {i+1}')\n",
        "        axes[i].axis('off')\n",
        "\n",
        "    plt.suptitle('VAE 生成的新樣本', fontsize=16)\n",
        "    plt.tight_layout()\n",
        "    plt.savefig('generated_samples.png', dpi=150, bbox_inches='tight')\n",
        "    plt.show()"
      ],
      "metadata": {
        "id": "emlhl_w2VJTp"
      },
      "execution_count": null,
      "outputs": []
    },
    {
      "cell_type": "code",
      "source": [
        "print(\"生成新樣本...\")\n",
        "generate_samples(model, device)"
      ],
      "metadata": {
        "colab": {
          "base_uri": "https://localhost:8080/",
          "height": 850
        },
        "id": "YYGglXGDVLIW",
        "outputId": "b107bf1c-321b-4741-dbe0-e241a7f491f2"
      },
      "execution_count": null,
      "outputs": [
        {
          "output_type": "stream",
          "name": "stdout",
          "text": [
            "生成新樣本...\n"
          ]
        },
        {
          "output_type": "stream",
          "name": "stderr",
          "text": [
            "/tmp/ipython-input-3162981832.py:20: UserWarning: Glyph 29983 (\\N{CJK UNIFIED IDEOGRAPH-751F}) missing from font(s) DejaVu Sans.\n",
            "  plt.tight_layout()\n",
            "/tmp/ipython-input-3162981832.py:20: UserWarning: Glyph 25104 (\\N{CJK UNIFIED IDEOGRAPH-6210}) missing from font(s) DejaVu Sans.\n",
            "  plt.tight_layout()\n",
            "/tmp/ipython-input-3162981832.py:20: UserWarning: Glyph 30340 (\\N{CJK UNIFIED IDEOGRAPH-7684}) missing from font(s) DejaVu Sans.\n",
            "  plt.tight_layout()\n",
            "/tmp/ipython-input-3162981832.py:20: UserWarning: Glyph 26032 (\\N{CJK UNIFIED IDEOGRAPH-65B0}) missing from font(s) DejaVu Sans.\n",
            "  plt.tight_layout()\n",
            "/tmp/ipython-input-3162981832.py:20: UserWarning: Glyph 27171 (\\N{CJK UNIFIED IDEOGRAPH-6A23}) missing from font(s) DejaVu Sans.\n",
            "  plt.tight_layout()\n",
            "/tmp/ipython-input-3162981832.py:20: UserWarning: Glyph 26412 (\\N{CJK UNIFIED IDEOGRAPH-672C}) missing from font(s) DejaVu Sans.\n",
            "  plt.tight_layout()\n",
            "/tmp/ipython-input-3162981832.py:21: UserWarning: Glyph 29983 (\\N{CJK UNIFIED IDEOGRAPH-751F}) missing from font(s) DejaVu Sans.\n",
            "  plt.savefig('generated_samples.png', dpi=150, bbox_inches='tight')\n",
            "/tmp/ipython-input-3162981832.py:21: UserWarning: Glyph 25104 (\\N{CJK UNIFIED IDEOGRAPH-6210}) missing from font(s) DejaVu Sans.\n",
            "  plt.savefig('generated_samples.png', dpi=150, bbox_inches='tight')\n",
            "/tmp/ipython-input-3162981832.py:21: UserWarning: Glyph 30340 (\\N{CJK UNIFIED IDEOGRAPH-7684}) missing from font(s) DejaVu Sans.\n",
            "  plt.savefig('generated_samples.png', dpi=150, bbox_inches='tight')\n",
            "/tmp/ipython-input-3162981832.py:21: UserWarning: Glyph 26032 (\\N{CJK UNIFIED IDEOGRAPH-65B0}) missing from font(s) DejaVu Sans.\n",
            "  plt.savefig('generated_samples.png', dpi=150, bbox_inches='tight')\n",
            "/tmp/ipython-input-3162981832.py:21: UserWarning: Glyph 27171 (\\N{CJK UNIFIED IDEOGRAPH-6A23}) missing from font(s) DejaVu Sans.\n",
            "  plt.savefig('generated_samples.png', dpi=150, bbox_inches='tight')\n",
            "/tmp/ipython-input-3162981832.py:21: UserWarning: Glyph 26412 (\\N{CJK UNIFIED IDEOGRAPH-672C}) missing from font(s) DejaVu Sans.\n",
            "  plt.savefig('generated_samples.png', dpi=150, bbox_inches='tight')\n",
            "/usr/local/lib/python3.12/dist-packages/IPython/core/pylabtools.py:151: UserWarning: Glyph 29983 (\\N{CJK UNIFIED IDEOGRAPH-751F}) missing from font(s) DejaVu Sans.\n",
            "  fig.canvas.print_figure(bytes_io, **kw)\n",
            "/usr/local/lib/python3.12/dist-packages/IPython/core/pylabtools.py:151: UserWarning: Glyph 25104 (\\N{CJK UNIFIED IDEOGRAPH-6210}) missing from font(s) DejaVu Sans.\n",
            "  fig.canvas.print_figure(bytes_io, **kw)\n",
            "/usr/local/lib/python3.12/dist-packages/IPython/core/pylabtools.py:151: UserWarning: Glyph 30340 (\\N{CJK UNIFIED IDEOGRAPH-7684}) missing from font(s) DejaVu Sans.\n",
            "  fig.canvas.print_figure(bytes_io, **kw)\n",
            "/usr/local/lib/python3.12/dist-packages/IPython/core/pylabtools.py:151: UserWarning: Glyph 26032 (\\N{CJK UNIFIED IDEOGRAPH-65B0}) missing from font(s) DejaVu Sans.\n",
            "  fig.canvas.print_figure(bytes_io, **kw)\n",
            "/usr/local/lib/python3.12/dist-packages/IPython/core/pylabtools.py:151: UserWarning: Glyph 27171 (\\N{CJK UNIFIED IDEOGRAPH-6A23}) missing from font(s) DejaVu Sans.\n",
            "  fig.canvas.print_figure(bytes_io, **kw)\n",
            "/usr/local/lib/python3.12/dist-packages/IPython/core/pylabtools.py:151: UserWarning: Glyph 26412 (\\N{CJK UNIFIED IDEOGRAPH-672C}) missing from font(s) DejaVu Sans.\n",
            "  fig.canvas.print_figure(bytes_io, **kw)\n"
          ]
        },
        {
          "output_type": "display_data",
          "data": {
            "text/plain": [
              "<Figure size 1500x200 with 8 Axes>"
            ],
            "image/png": "[encoded data removed]"
          },
          "metadata": {}
        }
      ]
    },
    {
      "cell_type": "code",
      "source": [
        "# 7. 損失曲線\n",
        "plt.figure(figsize=(10, 6))\n",
        "plt.plot(range(1, EPOCHS + 1), train_losses, 'b-', label='Training Loss')\n",
        "plt.xlabel('Epoch')\n",
        "plt.ylabel('Loss')\n",
        "plt.title('VAE 訓練損失曲線')\n",
        "plt.legend()\n",
        "plt.grid(True)\n",
        "plt.savefig('training_loss.png', dpi=150, bbox_inches='tight')\n",
        "plt.show()"
      ],
      "metadata": {
        "colab": {
          "base_uri": "https://localhost:8080/",
          "height": 980
        },
        "id": "66MV-HixVMAv",
        "outputId": "a04d4202-8ec1-4b28-8972-10b23c2dd789"
      },
      "execution_count": null,
      "outputs": [
        {
          "output_type": "stream",
          "name": "stderr",
          "text": [
            "/tmp/ipython-input-3301458024.py:9: UserWarning: Glyph 35347 (\\N{CJK UNIFIED IDEOGRAPH-8A13}) missing from font(s) DejaVu Sans.\n",
            "  plt.savefig('training_loss.png', dpi=150, bbox_inches='tight')\n",
            "/tmp/ipython-input-3301458024.py:9: UserWarning: Glyph 32244 (\\N{CJK UNIFIED IDEOGRAPH-7DF4}) missing from font(s) DejaVu Sans.\n",
            "  plt.savefig('training_loss.png', dpi=150, bbox_inches='tight')\n",
            "/tmp/ipython-input-3301458024.py:9: UserWarning: Glyph 25613 (\\N{CJK UNIFIED IDEOGRAPH-640D}) missing from font(s) DejaVu Sans.\n",
            "  plt.savefig('training_loss.png', dpi=150, bbox_inches='tight')\n",
            "/tmp/ipython-input-3301458024.py:9: UserWarning: Glyph 22833 (\\N{CJK UNIFIED IDEOGRAPH-5931}) missing from font(s) DejaVu Sans.\n",
            "  plt.savefig('training_loss.png', dpi=150, bbox_inches='tight')\n",
            "/tmp/ipython-input-3301458024.py:9: UserWarning: Glyph 26354 (\\N{CJK UNIFIED IDEOGRAPH-66F2}) missing from font(s) DejaVu Sans.\n",
            "  plt.savefig('training_loss.png', dpi=150, bbox_inches='tight')\n",
            "/tmp/ipython-input-3301458024.py:9: UserWarning: Glyph 32218 (\\N{CJK UNIFIED IDEOGRAPH-7DDA}) missing from font(s) DejaVu Sans.\n",
            "  plt.savefig('training_loss.png', dpi=150, bbox_inches='tight')\n",
            "/usr/local/lib/python3.12/dist-packages/IPython/core/pylabtools.py:151: UserWarning: Glyph 35347 (\\N{CJK UNIFIED IDEOGRAPH-8A13}) missing from font(s) DejaVu Sans.\n",
            "  fig.canvas.print_figure(bytes_io, **kw)\n",
            "/usr/local/lib/python3.12/dist-packages/IPython/core/pylabtools.py:151: UserWarning: Glyph 32244 (\\N{CJK UNIFIED IDEOGRAPH-7DF4}) missing from font(s) DejaVu Sans.\n",
            "  fig.canvas.print_figure(bytes_io, **kw)\n",
            "/usr/local/lib/python3.12/dist-packages/IPython/core/pylabtools.py:151: UserWarning: Glyph 25613 (\\N{CJK UNIFIED IDEOGRAPH-640D}) missing from font(s) DejaVu Sans.\n",
            "  fig.canvas.print_figure(bytes_io, **kw)\n",
            "/usr/local/lib/python3.12/dist-packages/IPython/core/pylabtools.py:151: UserWarning: Glyph 22833 (\\N{CJK UNIFIED IDEOGRAPH-5931}) missing from font(s) DejaVu Sans.\n",
            "  fig.canvas.print_figure(bytes_io, **kw)\n",
            "/usr/local/lib/python3.12/dist-packages/IPython/core/pylabtools.py:151: UserWarning: Glyph 26354 (\\N{CJK UNIFIED IDEOGRAPH-66F2}) missing from font(s) DejaVu Sans.\n",
            "  fig.canvas.print_figure(bytes_io, **kw)\n",
            "/usr/local/lib/python3.12/dist-packages/IPython/core/pylabtools.py:151: UserWarning: Glyph 32218 (\\N{CJK UNIFIED IDEOGRAPH-7DDA}) missing from font(s) DejaVu Sans.\n",
            "  fig.canvas.print_figure(bytes_io, **kw)\n"
          ]
        },
        {
          "output_type": "display_data",
          "data": {
            "text/plain": [
              "<Figure size 1000x600 with 1 Axes>"
            ],
            "image/png": "[encoded data removed]"
          },
          "metadata": {}
        }
      ]
    },
    {
      "cell_type": "code",
      "source": [
        "# 8. 潛在空間視覺化 (2D)\n",
        "def visualize_latent_space(model, test_loader, device):\n",
        "    \"\"\"視覺化潛在空間 (僅適用於 2D 潛在空間)\"\"\"\n",
        "    if LATENT_DIM != 2:\n",
        "        print(\"潛在空間視覺化僅適用於 2D 潛在空間\")\n",
        "        return\n",
        "\n",
        "    model.eval()\n",
        "    z_points = []\n",
        "    labels = []\n",
        "\n",
        "    with torch.no_grad():\n",
        "        for data, label in test_loader:\n",
        "            data = data.to(device)\n",
        "            mu, _ = model.encode(data.view(-1, INPUT_DIM))\n",
        "            z_points.extend(mu.cpu().numpy())\n",
        "            labels.extend(label.numpy())\n",
        "\n",
        "    z_points = np.array(z_points)\n",
        "    labels = np.array(labels)\n",
        "\n",
        "    plt.figure(figsize=(10, 8))\n",
        "    scatter = plt.scatter(z_points[:, 0], z_points[:, 1], c=labels, cmap='tab10')\n",
        "    plt.colorbar(scatter)\n",
        "    plt.xlabel('Latent Dimension 1')\n",
        "    plt.ylabel('Latent Dimension 2')\n",
        "    plt.title('潛在空間視覺化')\n",
        "    plt.savefig('latent_space.png', dpi=150, bbox_inches='tight')\n",
        "    plt.show()"
      ],
      "metadata": {
        "id": "is9klTQfVPVc"
      },
      "execution_count": null,
      "outputs": []
    },
    {
      "cell_type": "code",
      "source": [
        "# 如果使用 2D 潛在空間，可以視覺化\n",
        "if LATENT_DIM == 2:\n",
        "    print(\"視覺化潛在空間...\")\n",
        "    visualize_latent_space(model, test_loader, device)\n",
        "\n",
        "print(\"\\n所有結果已生成完成！\")\n",
        "print(\"生成的圖片檔案：\")\n",
        "print(\"- reconstruction.png: 重建結果比較\")\n",
        "print(\"- generated_samples.png: 生成的新樣本\")\n",
        "print(\"- training_loss.png: 訓練損失曲線\")\n",
        "if LATENT_DIM == 2:\n",
        "    print(\"- latent_space.png: 潛在空間視覺化\")"
      ],
      "metadata": {
        "colab": {
          "base_uri": "https://localhost:8080/"
        },
        "id": "zEM5wxZWVTgo",
        "outputId": "b7570721-a87e-4758-f19c-6030513e4dc8"
      },
      "execution_count": null,
      "outputs": [
        {
          "output_type": "stream",
          "name": "stdout",
          "text": [
            "\n",
            "所有結果已生成完成！\n",
            "生成的圖片檔案：\n",
            "- reconstruction.png: 重建結果比較\n",
            "- generated_samples.png: 生成的新樣本\n",
            "- training_loss.png: 訓練損失曲線\n"
          ]
        }
      ]
    },
    {
      "cell_type": "code",
      "source": [
        "# 儲存模型\n",
        "torch.save(model.state_dict(), 'vae_mnist_model.pth')\n",
        "print(\"模型已儲存為 vae_mnist_model.pth\")"
      ],
      "metadata": {
        "colab": {
          "base_uri": "https://localhost:8080/"
        },
        "id": "t9IuEhTFVVve",
        "outputId": "8caf749b-fd40-4602-b6e2-2681b62c7b7d"
      },
      "execution_count": null,
      "outputs": [
        {
          "output_type": "stream",
          "name": "stdout",
          "text": [
            "模型已儲存為 vae_mnist_model.pth\n"
          ]
        }
      ]
    },
    {
      "cell_type": "code",
      "source": [],
      "metadata": {
        "id": "6gwNXPcFVfym"
      },
      "execution_count": null,
      "outputs": []
    }
  ]
}